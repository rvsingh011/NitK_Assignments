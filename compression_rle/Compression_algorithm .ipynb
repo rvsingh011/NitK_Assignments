{
 "cells": [
  {
   "cell_type": "code",
   "execution_count": 21,
   "metadata": {
    "collapsed": true
   },
   "outputs": [],
   "source": [
    "import numpy as np\n",
    "import sklearn as sk\n",
    "import cv2\n",
    "import scipy.misc\n",
    "import os\n",
    "\n"
   ]
  },
  {
   "cell_type": "code",
   "execution_count": 25,
   "metadata": {},
   "outputs": [
    {
     "name": "stdout",
     "output_type": "stream",
     "text": [
      "compression ratio\n",
      "1239.1540812657317\n"
     ]
    }
   ],
   "source": [
    "qunat_value = 10\n",
    "count = 0\n",
    "tupple = []\n",
    "run_length_encoding = []\n",
    "old_value = None\n",
    "img = cv2.imread(\"this.png\")\n",
    "\n",
    "img = np.floor_divide(img, 10)\n",
    "for x in range(img.shape[0]):\n",
    "    for y in range(img.shape[1]):\n",
    "        for z in range(img.shape[2]):\n",
    "            if not old_value:\n",
    "                old_value = img[x][y][z]\n",
    "            if img[x][y][z] == old_value:\n",
    "                count+=1\n",
    "            else:\n",
    "                tupple.append((old_value, count))\n",
    "                count = 1\n",
    "                old_value = img[x][y][z]\n",
    "\n",
    "sum_x = 0            \n",
    "for x in range(len(tupple)):\n",
    "    if tupple[x-1]:\n",
    "        if tupple[x][0] == tupple[x-1][0]:\n",
    "            sum_x += tupple[x][1]\n",
    "        else:\n",
    "            run_length_encoding.append((tupple[x-1][0], sum_x))\n",
    "            sum_x = tupple[x][1]\n",
    "    else:\n",
    "        sum_x = tupple[x][1]\n",
    "        \n",
    "print(run_length_encoding)\n",
    "scipy.misc.imsave('outfile.png', img)\n",
    "print(\"compression ratio\")\n",
    "statinfo = os.stat('this.png')\n",
    "original = statinfo.st_size\n",
    "statinfo_new = os.stat('outfile.png')\n",
    "new_file = statinfo_new.st_size\n",
    "print(((original-new_file)/new_file)*100)\n",
    "\n",
    "\n",
    "\n",
    "\n",
    "\n"
   ]
  },
  {
   "cell_type": "code",
   "execution_count": null,
   "metadata": {
    "collapsed": true
   },
   "outputs": [],
   "source": []
  }
 ],
 "metadata": {
  "kernelspec": {
   "display_name": "Python 3",
   "language": "python",
   "name": "python3"
  },
  "language_info": {
   "codemirror_mode": {
    "name": "ipython",
    "version": 3
   },
   "file_extension": ".py",
   "mimetype": "text/x-python",
   "name": "python",
   "nbconvert_exporter": "python",
   "pygments_lexer": "ipython3",
   "version": "3.6.3"
  }
 },
 "nbformat": 4,
 "nbformat_minor": 2
}
