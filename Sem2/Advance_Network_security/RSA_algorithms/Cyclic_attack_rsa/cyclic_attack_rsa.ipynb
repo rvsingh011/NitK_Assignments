{
 "cells": [
  {
   "cell_type": "code",
   "execution_count": 6,
   "metadata": {
    "collapsed": true
   },
   "outputs": [],
   "source": [
    "import math"
   ]
  },
  {
   "cell_type": "code",
   "execution_count": 31,
   "metadata": {},
   "outputs": [
    {
     "name": "stdout",
     "output_type": "stream",
     "text": [
      "Enter the value of e\n",
      "17\n",
      "1 157 -1\n",
      "The value of d is  157\n",
      "enter the cipher text\n",
      "2342\n",
      "2365 1\n",
      "1157 2\n",
      "2018 3\n",
      "985 4\n",
      "1421 5\n",
      "2101 6\n",
      "1664 7\n",
      "2047 8\n",
      "1539 9\n",
      "980 10\n",
      "1310 11\n",
      "1103 12\n",
      "1893 13\n",
      "1629 14\n",
      "2608 15\n",
      "218 16\n",
      "1185 17\n",
      "1039 18\n",
      "602 19\n",
      "513 20\n",
      "772 21\n",
      "744 22\n",
      "720 23\n",
      "2755 24\n",
      "890 25\n",
      "2160 26\n",
      "2549 27\n",
      "926 28\n",
      "536 29\n",
      "449 30\n",
      "2667 31\n",
      "2578 32\n",
      "182 33\n",
      "2278 34\n",
      "248 35\n",
      "454 36\n",
      "1480 37\n",
      "1393 38\n",
      "2313 39\n",
      "2637 40\n",
      "2247 41\n",
      "1688 42\n",
      "1900 43\n",
      "2342 44\n",
      "verifying that we found right value\n",
      "848\n"
     ]
    }
   ],
   "source": [
    "# print(\"Enter the value of P\")\n",
    "# p = int(input())\n",
    "# print(\"Enter the value of Q\")\n",
    "# q = int(input())\n",
    "p = 47\n",
    "q=59\n",
    "n = p*q\n",
    "phi_n = (p-1) * (q-1)\n",
    "print(\"Enter the value of e\")\n",
    "e = int(input())\n",
    "remainder, d, y = xgcd(e, phi_n)\n",
    "print(remainder, d, y)\n",
    "print(\"The value of d is \", d)\n",
    "\n",
    "print(\"enter the cipher text\")\n",
    "c = int(input())\n",
    "mes, k = cyclic_attack(e, n, c)\n",
    "\n",
    "\n",
    "\n",
    "\n",
    "\n",
    "\n",
    "\n",
    "\n",
    "\n"
   ]
  },
  {
   "cell_type": "code",
   "execution_count": 3,
   "metadata": {
    "collapsed": true
   },
   "outputs": [],
   "source": [
    "#extended eculidean algorithm. \n",
    "def xgcd(b, n):\n",
    "    x0, x1, y0, y1 = 1, 0, 0, 1\n",
    "    while n != 0:\n",
    "        q, b, n = b // n, n, b % n\n",
    "        x0, x1 = x1, x0 - q * x1\n",
    "        y0, y1 = y1, y0 - q * y1\n",
    "    return  b, x0, y0"
   ]
  },
  {
   "cell_type": "code",
   "execution_count": 28,
   "metadata": {
    "collapsed": true
   },
   "outputs": [],
   "source": [
    "def cyclic_attack(e, n, c):\n",
    "    last_value = None\n",
    "    k = 1\n",
    "    while(True):\n",
    "        value = pow(c, pow(e, k), n)\n",
    "        print(value , k)\n",
    "        if value == c:\n",
    "            return last_value, k-1\n",
    "        else:\n",
    "            last_value = value\n",
    "            k += 1\n",
    "        \n",
    "        \n",
    "            \n",
    "            \n",
    "        \n",
    "        \n",
    "        \n",
    "        \n",
    "        "
   ]
  },
  {
   "cell_type": "code",
   "execution_count": null,
   "metadata": {
    "collapsed": true
   },
   "outputs": [],
   "source": []
  }
 ],
 "metadata": {
  "kernelspec": {
   "display_name": "Python 3",
   "language": "python",
   "name": "python3"
  },
  "language_info": {
   "codemirror_mode": {
    "name": "ipython",
    "version": 3
   },
   "file_extension": ".py",
   "mimetype": "text/x-python",
   "name": "python",
   "nbconvert_exporter": "python",
   "pygments_lexer": "ipython3",
   "version": "3.6.3"
  }
 },
 "nbformat": 4,
 "nbformat_minor": 2
}
