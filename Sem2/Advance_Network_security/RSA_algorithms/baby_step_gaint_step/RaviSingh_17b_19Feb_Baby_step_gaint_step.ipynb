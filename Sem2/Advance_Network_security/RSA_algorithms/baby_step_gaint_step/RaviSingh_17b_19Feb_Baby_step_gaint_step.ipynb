{
 "cells": [
  {
   "cell_type": "code",
   "execution_count": 1,
   "metadata": {
    "collapsed": true
   },
   "outputs": [],
   "source": [
    "from math import sqrt, floor"
   ]
  },
  {
   "cell_type": "code",
   "execution_count": null,
   "metadata": {
    "collapsed": true
   },
   "outputs": [],
   "source": [
    "'''Parse the packet and extract the value of x , y, n'''\n",
    "\n",
    "def parse_data(data):\n",
    "    if (int(data[0], 16) == 4):\n",
    "        print(\"The packet is v4\")\n",
    "        total_length = int(data[4:8], 16)\n",
    "        protocol = int(data[18:20], 16)\n",
    "        header_length = int(data[1:2], 16) * 4\n",
    "        tcp_packet_length = total_length - header_length\n",
    "        data = data[(header_length*2):]\n",
    "        if protocol == 1 or protocol == 17:\n",
    "            #icmp packet or \n",
    "            data = data[16:]\n",
    "            print(data)\n",
    "            data = data.split('#')\n",
    "            return int(data[0], 16), int(data[1], 16), int(data[2], 16)\n",
    "        \n",
    "        if protocol == 6:\n",
    "            #TCP data\n",
    "            tcp_header_length = int(data[24:25], 16) *4\n",
    "            data = data[tcp_header_length:]\n",
    "            data = data.split(\"#\")\n",
    "            return int(data[0], 16), int(data[1], 16), int(data[2], 16)\n",
    "        \n",
    "    else:\n",
    "        print(\"v6\")\n",
    "        next_header = int(data[12:14], 16)\n",
    "        data = data[80:]\n",
    "        if next_header == 17 or next_header == 58:\n",
    "            #icmp packet\n",
    "            data = data[16:]\n",
    "            print(data)\n",
    "            data = data.split('#')\n",
    "            return int(data[0], 16), int(data[1], 16), int(data[2], 16)\n",
    "        \n",
    "        if next_header == 6:\n",
    "            #TCP data\n",
    "            tcp_header_length = int(data[24:25], 16) *4\n",
    "            data = data[tcp_header_length:]\n",
    "            data = data.split(\"#\")\n",
    "            return int(data[0], 16), int(data[1], 16), int(data[2], 16)"
   ]
  },
  {
   "cell_type": "code",
   "execution_count": 5,
   "metadata": {
    "collapsed": true
   },
   "outputs": [],
   "source": [
    "def calculate_result(y, n, a):\n",
    "    ##### calculation of baby gaint step starts \n",
    "    with open(\"./output.txt\", \"a\") as f: \n",
    "        f.write(\"value of root n is calculated\\n\")\n",
    "        s = floor(sqrt(n))\n",
    "        f.write(str(s))\n",
    "        S = []\n",
    "        T = []\n",
    "        for r in range(s):\n",
    "            S.append((pow(y, pow(a,r), n), r))\n",
    "        f.write(\"\\ncalculated S, (y* (a ** r) % n, r)\\n\")\n",
    "        f.write(str(S))\n",
    "        S = sorted(S, key=lambda x: x[0])\n",
    "        f.write(\"\\nSorted S, (y* (a ** r) % n, r)\\n\")\n",
    "        f.write(str(S))\n",
    "        print(\"value of S is \", S)\n",
    "        possible_solution = []\n",
    "        ##computing gaint step:\n",
    "\n",
    "        for r in range(1, s+1):\n",
    "            T.append((pow(a, pow(r*s),n), r * s))\n",
    "        f.write(\"\\nCalculated T, (a ** (r*s) % n, r * s)\\n\")\n",
    "        f.write(str(T))\n",
    "        print(\"value of T is \", T)\n",
    "        T = sorted(T, key=lambda x: x[0])\n",
    "        f.write(\"\\nSorted T, (a ** (r*s) % n, r * s)\\n\")\n",
    "        f.write(str(T))\n",
    "\n",
    "        for ele_S, ele_T in zip(S, T):\n",
    "            if ele_S[0] == ele_T[0]:\n",
    "                possible_solution.append(ele_T[1] - ele_S[1])\n",
    "\n",
    "        for m in possible_solution:\n",
    "            print(\"The value of x in y = a^x mod n is\", m)\n",
    "            f.write(\"\\nThe value of x in y = a^x mod n is\\n\")\n",
    "            f.write(str(m))\n",
    "            value_of_y  = a** m % n\n",
    "            print(\"The value of y is\" , value_of_y)\n",
    "            f.write(\"\\nThe value of y is\\n\")\n",
    "            f.write(str(value_of_y))\n",
    "            f.write(\"\\n\")\n",
    "            f.write(\"-\" * 200)\n",
    "            f.write(\"\\n\")"
   ]
  },
  {
   "cell_type": "code",
   "execution_count": null,
   "metadata": {
    "collapsed": true
   },
   "outputs": [],
   "source": []
  },
  {
   "cell_type": "code",
   "execution_count": 6,
   "metadata": {},
   "outputs": [
    {
     "name": "stdout",
     "output_type": "stream",
     "text": [
      "The packet is v4\n",
      "361601886714828 1758909461 1808035297\n"
     ]
    },
    {
     "ename": "KeyboardInterrupt",
     "evalue": "",
     "output_type": "error",
     "traceback": [
      "\u001b[0;31m---------------------------------------------------------------------------\u001b[0m",
      "\u001b[0;31mKeyboardInterrupt\u001b[0m                         Traceback (most recent call last)",
      "\u001b[0;32m<ipython-input-6-f9b74b4bbff4>\u001b[0m in \u001b[0;36m<module>\u001b[0;34m()\u001b[0m\n\u001b[1;32m      4\u001b[0m             \u001b[0mx\u001b[0m\u001b[0;34m,\u001b[0m \u001b[0my\u001b[0m\u001b[0;34m,\u001b[0m \u001b[0mn\u001b[0m \u001b[0;34m=\u001b[0m  \u001b[0mparse_data\u001b[0m\u001b[0;34m(\u001b[0m\u001b[0mline\u001b[0m\u001b[0;34m)\u001b[0m\u001b[0;34m\u001b[0m\u001b[0m\n\u001b[1;32m      5\u001b[0m             \u001b[0mprint\u001b[0m\u001b[0;34m(\u001b[0m\u001b[0mx\u001b[0m\u001b[0;34m,\u001b[0m \u001b[0my\u001b[0m\u001b[0;34m,\u001b[0m \u001b[0mn\u001b[0m\u001b[0;34m)\u001b[0m\u001b[0;34m\u001b[0m\u001b[0m\n\u001b[0;32m----> 6\u001b[0;31m             \u001b[0mcalculate_result\u001b[0m\u001b[0;34m(\u001b[0m\u001b[0my\u001b[0m\u001b[0;34m,\u001b[0m \u001b[0mn\u001b[0m\u001b[0;34m,\u001b[0m \u001b[0mx\u001b[0m\u001b[0;34m)\u001b[0m\u001b[0;34m\u001b[0m\u001b[0m\n\u001b[0m\u001b[1;32m      7\u001b[0m \u001b[0;34m\u001b[0m\u001b[0m\n\u001b[1;32m      8\u001b[0m \u001b[0;34m\u001b[0m\u001b[0m\n",
      "\u001b[0;32m<ipython-input-5-7ab59a4437d8>\u001b[0m in \u001b[0;36mcalculate_result\u001b[0;34m(y, n, a)\u001b[0m\n\u001b[1;32m      8\u001b[0m         \u001b[0mT\u001b[0m \u001b[0;34m=\u001b[0m \u001b[0;34m[\u001b[0m\u001b[0;34m]\u001b[0m\u001b[0;34m\u001b[0m\u001b[0m\n\u001b[1;32m      9\u001b[0m         \u001b[0;32mfor\u001b[0m \u001b[0mr\u001b[0m \u001b[0;32min\u001b[0m \u001b[0mrange\u001b[0m\u001b[0;34m(\u001b[0m\u001b[0ms\u001b[0m\u001b[0;34m)\u001b[0m\u001b[0;34m:\u001b[0m\u001b[0;34m\u001b[0m\u001b[0m\n\u001b[0;32m---> 10\u001b[0;31m             \u001b[0mS\u001b[0m\u001b[0;34m.\u001b[0m\u001b[0mappend\u001b[0m\u001b[0;34m(\u001b[0m\u001b[0;34m(\u001b[0m\u001b[0mpow\u001b[0m\u001b[0;34m(\u001b[0m\u001b[0my\u001b[0m\u001b[0;34m,\u001b[0m \u001b[0mpow\u001b[0m\u001b[0;34m(\u001b[0m\u001b[0ma\u001b[0m\u001b[0;34m,\u001b[0m\u001b[0mr\u001b[0m\u001b[0;34m)\u001b[0m\u001b[0;34m,\u001b[0m \u001b[0mn\u001b[0m\u001b[0;34m)\u001b[0m\u001b[0;34m,\u001b[0m \u001b[0mr\u001b[0m\u001b[0;34m)\u001b[0m\u001b[0;34m)\u001b[0m\u001b[0;34m\u001b[0m\u001b[0m\n\u001b[0m\u001b[1;32m     11\u001b[0m         \u001b[0mf\u001b[0m\u001b[0;34m.\u001b[0m\u001b[0mwrite\u001b[0m\u001b[0;34m(\u001b[0m\u001b[0;34m\"\\ncalculated S, (y* (a ** r) % n, r)\\n\"\u001b[0m\u001b[0;34m)\u001b[0m\u001b[0;34m\u001b[0m\u001b[0m\n\u001b[1;32m     12\u001b[0m         \u001b[0mf\u001b[0m\u001b[0;34m.\u001b[0m\u001b[0mwrite\u001b[0m\u001b[0;34m(\u001b[0m\u001b[0mstr\u001b[0m\u001b[0;34m(\u001b[0m\u001b[0mS\u001b[0m\u001b[0;34m)\u001b[0m\u001b[0;34m)\u001b[0m\u001b[0;34m\u001b[0m\u001b[0m\n",
      "\u001b[0;31mKeyboardInterrupt\u001b[0m: "
     ]
    }
   ],
   "source": [
    "if __name__ == \"__main__\":\n",
    "    with open(\"./data.txt\") as file:\n",
    "        for line in file:\n",
    "            x, y, n =  parse_data(line)\n",
    "            print(x, y, n)\n",
    "            calculate_result(y, n, x)   \n",
    "    \n",
    "    "
   ]
  },
  {
   "cell_type": "code",
   "execution_count": null,
   "metadata": {
    "collapsed": true
   },
   "outputs": [],
   "source": []
  }
 ],
 "metadata": {
  "kernelspec": {
   "display_name": "Python 3",
   "language": "python",
   "name": "python3"
  },
  "language_info": {
   "codemirror_mode": {
    "name": "ipython",
    "version": 3
   },
   "file_extension": ".py",
   "mimetype": "text/x-python",
   "name": "python",
   "nbconvert_exporter": "python",
   "pygments_lexer": "ipython3",
   "version": "3.6.3"
  }
 },
 "nbformat": 4,
 "nbformat_minor": 2
}
